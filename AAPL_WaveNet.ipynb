{
 "cells": [
  {
   "cell_type": "markdown",
   "metadata": {},
   "source": [
    "# Introduction to WaveNet\n",
    "### Jonathan Balaban"
   ]
  },
  {
   "cell_type": "markdown",
   "metadata": {},
   "source": [
    ">run this full line in bash, as one line:\n",
    "\n",
    "`conda create -n wavenet python=3.7 pandas numpy seaborn matplotlib scipy patsy statsmodels jupyter fbprophet`"
   ]
  },
  {
   "cell_type": "markdown",
   "metadata": {
    "run_control": {
     "marked": false
    }
   },
   "source": [
    "# Data Setup"
   ]
  },
  {
   "cell_type": "code",
   "execution_count": 50,
   "metadata": {
    "run_control": {
     "marked": false
    }
   },
   "outputs": [],
   "source": [
    "import pandas as pd\n",
    "import numpy as np\n",
    "import patsy\n",
    "import matplotlib.pyplot as plt\n",
    "import seaborn as sns\n",
    "%matplotlib inline\n",
    "\n",
    "#pd.core.common.is_list_like = pd.api.types.is_list_like\n",
    "#from pandas_datareader import data\n",
    "#from math import sqrt\n",
    "#import quandl\n",
    "#quandl.ApiConfig.api_key = \"Xe_Akn13ZTp5zvsxoJs7\""
   ]
  },
  {
   "cell_type": "code",
   "execution_count": 51,
   "metadata": {
    "run_control": {
     "marked": false
    }
   },
   "outputs": [],
   "source": [
    "# load Apple stock\n",
    "aapl_raw = pd.read_csv('./AAPL-2000-2019.csv')\n",
    "#stocks_list = []\n",
    "\n",
    "# append to empty list\n",
    "#for symbol in stocks['Symbol']:\n",
    "    #stocks_list.append(symbol)"
   ]
  },
  {
   "cell_type": "code",
   "execution_count": 52,
   "metadata": {},
   "outputs": [
    {
     "name": "stdout",
     "output_type": "stream",
     "text": [
      "<class 'pandas.core.frame.DataFrame'>\n",
      "RangeIndex: 4779 entries, 0 to 4778\n",
      "Data columns (total 7 columns):\n",
      "Date         4779 non-null object\n",
      "Open         4779 non-null float64\n",
      "High         4779 non-null float64\n",
      "Low          4779 non-null float64\n",
      "Close        4779 non-null float64\n",
      "Adj Close    4779 non-null float64\n",
      "Volume       4779 non-null int64\n",
      "dtypes: float64(5), int64(1), object(1)\n",
      "memory usage: 261.4+ KB\n"
     ]
    }
   ],
   "source": [
    "aapl_raw.info()\n",
    "\n",
    "# we need to set date as datetime object and index"
   ]
  },
  {
   "cell_type": "code",
   "execution_count": 53,
   "metadata": {},
   "outputs": [],
   "source": [
    "aapl_raw.index = pd.to_datetime(aapl_raw.Date)"
   ]
  },
  {
   "cell_type": "code",
   "execution_count": 54,
   "metadata": {
    "run_control": {
     "marked": false
    }
   },
   "outputs": [
    {
     "data": {
      "text/html": [
       "<div>\n",
       "<style scoped>\n",
       "    .dataframe tbody tr th:only-of-type {\n",
       "        vertical-align: middle;\n",
       "    }\n",
       "\n",
       "    .dataframe tbody tr th {\n",
       "        vertical-align: top;\n",
       "    }\n",
       "\n",
       "    .dataframe thead th {\n",
       "        text-align: right;\n",
       "    }\n",
       "</style>\n",
       "<table border=\"1\" class=\"dataframe\">\n",
       "  <thead>\n",
       "    <tr style=\"text-align: right;\">\n",
       "      <th></th>\n",
       "      <th>Date</th>\n",
       "      <th>Open</th>\n",
       "      <th>High</th>\n",
       "      <th>Low</th>\n",
       "      <th>Close</th>\n",
       "      <th>Adj Close</th>\n",
       "      <th>Volume</th>\n",
       "    </tr>\n",
       "    <tr>\n",
       "      <th>Date</th>\n",
       "      <th></th>\n",
       "      <th></th>\n",
       "      <th></th>\n",
       "      <th></th>\n",
       "      <th></th>\n",
       "      <th></th>\n",
       "      <th></th>\n",
       "    </tr>\n",
       "  </thead>\n",
       "  <tbody>\n",
       "    <tr>\n",
       "      <th>2000-04-18</th>\n",
       "      <td>2000-04-18</td>\n",
       "      <td>4.410714</td>\n",
       "      <td>4.531250</td>\n",
       "      <td>4.263393</td>\n",
       "      <td>4.531250</td>\n",
       "      <td>3.021451</td>\n",
       "      <td>97731200</td>\n",
       "    </tr>\n",
       "    <tr>\n",
       "      <th>2000-04-19</th>\n",
       "      <td>2000-04-19</td>\n",
       "      <td>4.506696</td>\n",
       "      <td>4.651786</td>\n",
       "      <td>4.276786</td>\n",
       "      <td>4.325893</td>\n",
       "      <td>2.884518</td>\n",
       "      <td>130037600</td>\n",
       "    </tr>\n",
       "    <tr>\n",
       "      <th>2000-04-20</th>\n",
       "      <td>2000-04-20</td>\n",
       "      <td>4.417411</td>\n",
       "      <td>4.455357</td>\n",
       "      <td>4.180804</td>\n",
       "      <td>4.245536</td>\n",
       "      <td>2.830937</td>\n",
       "      <td>180530000</td>\n",
       "    </tr>\n",
       "    <tr>\n",
       "      <th>2000-04-24</th>\n",
       "      <td>2000-04-24</td>\n",
       "      <td>4.107143</td>\n",
       "      <td>4.303571</td>\n",
       "      <td>4.098214</td>\n",
       "      <td>4.303571</td>\n",
       "      <td>2.869634</td>\n",
       "      <td>110905200</td>\n",
       "    </tr>\n",
       "    <tr>\n",
       "      <th>2000-04-25</th>\n",
       "      <td>2000-04-25</td>\n",
       "      <td>4.361607</td>\n",
       "      <td>4.598214</td>\n",
       "      <td>4.359375</td>\n",
       "      <td>4.582589</td>\n",
       "      <td>3.055684</td>\n",
       "      <td>97910400</td>\n",
       "    </tr>\n",
       "  </tbody>\n",
       "</table>\n",
       "</div>"
      ],
      "text/plain": [
       "                  Date      Open      High       Low     Close  Adj Close  \\\n",
       "Date                                                                        \n",
       "2000-04-18  2000-04-18  4.410714  4.531250  4.263393  4.531250   3.021451   \n",
       "2000-04-19  2000-04-19  4.506696  4.651786  4.276786  4.325893   2.884518   \n",
       "2000-04-20  2000-04-20  4.417411  4.455357  4.180804  4.245536   2.830937   \n",
       "2000-04-24  2000-04-24  4.107143  4.303571  4.098214  4.303571   2.869634   \n",
       "2000-04-25  2000-04-25  4.361607  4.598214  4.359375  4.582589   3.055684   \n",
       "\n",
       "               Volume  \n",
       "Date                   \n",
       "2000-04-18   97731200  \n",
       "2000-04-19  130037600  \n",
       "2000-04-20  180530000  \n",
       "2000-04-24  110905200  \n",
       "2000-04-25   97910400  "
      ]
     },
     "execution_count": 54,
     "metadata": {},
     "output_type": "execute_result"
    }
   ],
   "source": [
    "# check\n",
    "aapl_raw.head()"
   ]
  },
  {
   "cell_type": "code",
   "execution_count": 55,
   "metadata": {},
   "outputs": [],
   "source": [
    "# rename Adj Close to AC, get rid of pesky spacing\n",
    "aapl_raw['AC'] = aapl_raw['Adj Close']"
   ]
  },
  {
   "cell_type": "markdown",
   "metadata": {},
   "source": [
    ">Based on [this article](https://finance.zacks.com/adjusted-closing-price-vs-closing-price-9991.html) and others, let's use Adj Close as our series."
   ]
  },
  {
   "cell_type": "code",
   "execution_count": 56,
   "metadata": {},
   "outputs": [
    {
     "data": {
      "text/html": [
       "<div>\n",
       "<style scoped>\n",
       "    .dataframe tbody tr th:only-of-type {\n",
       "        vertical-align: middle;\n",
       "    }\n",
       "\n",
       "    .dataframe tbody tr th {\n",
       "        vertical-align: top;\n",
       "    }\n",
       "\n",
       "    .dataframe thead th {\n",
       "        text-align: right;\n",
       "    }\n",
       "</style>\n",
       "<table border=\"1\" class=\"dataframe\">\n",
       "  <thead>\n",
       "    <tr style=\"text-align: right;\">\n",
       "      <th></th>\n",
       "      <th>Volume</th>\n",
       "      <th>AC</th>\n",
       "    </tr>\n",
       "    <tr>\n",
       "      <th>Date</th>\n",
       "      <th></th>\n",
       "      <th></th>\n",
       "    </tr>\n",
       "  </thead>\n",
       "  <tbody>\n",
       "    <tr>\n",
       "      <th>2000-04-18</th>\n",
       "      <td>97731200</td>\n",
       "      <td>3.021451</td>\n",
       "    </tr>\n",
       "    <tr>\n",
       "      <th>2000-04-19</th>\n",
       "      <td>130037600</td>\n",
       "      <td>2.884518</td>\n",
       "    </tr>\n",
       "    <tr>\n",
       "      <th>2000-04-20</th>\n",
       "      <td>180530000</td>\n",
       "      <td>2.830937</td>\n",
       "    </tr>\n",
       "    <tr>\n",
       "      <th>2000-04-24</th>\n",
       "      <td>110905200</td>\n",
       "      <td>2.869634</td>\n",
       "    </tr>\n",
       "    <tr>\n",
       "      <th>2000-04-25</th>\n",
       "      <td>97910400</td>\n",
       "      <td>3.055684</td>\n",
       "    </tr>\n",
       "  </tbody>\n",
       "</table>\n",
       "</div>"
      ],
      "text/plain": [
       "               Volume        AC\n",
       "Date                           \n",
       "2000-04-18   97731200  3.021451\n",
       "2000-04-19  130037600  2.884518\n",
       "2000-04-20  180530000  2.830937\n",
       "2000-04-24  110905200  2.869634\n",
       "2000-04-25   97910400  3.055684"
      ]
     },
     "execution_count": 56,
     "metadata": {},
     "output_type": "execute_result"
    }
   ],
   "source": [
    "# good, now drop Date and everything but AC and Volume\n",
    "aapl = aapl_raw.drop(columns=['Date', 'Open', 'High', 'Low', 'Close', 'Adj Close'])\n",
    "aapl.head()"
   ]
  },
  {
   "cell_type": "code",
   "execution_count": 57,
   "metadata": {},
   "outputs": [
    {
     "data": {
      "text/html": [
       "<div>\n",
       "<style scoped>\n",
       "    .dataframe tbody tr th:only-of-type {\n",
       "        vertical-align: middle;\n",
       "    }\n",
       "\n",
       "    .dataframe tbody tr th {\n",
       "        vertical-align: top;\n",
       "    }\n",
       "\n",
       "    .dataframe thead th {\n",
       "        text-align: right;\n",
       "    }\n",
       "</style>\n",
       "<table border=\"1\" class=\"dataframe\">\n",
       "  <thead>\n",
       "    <tr style=\"text-align: right;\">\n",
       "      <th></th>\n",
       "      <th>Volume</th>\n",
       "      <th>AC</th>\n",
       "    </tr>\n",
       "  </thead>\n",
       "  <tbody>\n",
       "    <tr>\n",
       "      <th>count</th>\n",
       "      <td>4.779000e+03</td>\n",
       "      <td>4779.00</td>\n",
       "    </tr>\n",
       "    <tr>\n",
       "      <th>mean</th>\n",
       "      <td>1.182295e+08</td>\n",
       "      <td>47.69</td>\n",
       "    </tr>\n",
       "    <tr>\n",
       "      <th>std</th>\n",
       "      <td>9.954219e+07</td>\n",
       "      <td>56.83</td>\n",
       "    </tr>\n",
       "    <tr>\n",
       "      <th>min</th>\n",
       "      <td>9.835000e+06</td>\n",
       "      <td>0.62</td>\n",
       "    </tr>\n",
       "    <tr>\n",
       "      <th>25%</th>\n",
       "      <td>5.056905e+07</td>\n",
       "      <td>3.35</td>\n",
       "    </tr>\n",
       "    <tr>\n",
       "      <th>50%</th>\n",
       "      <td>9.088870e+07</td>\n",
       "      <td>18.33</td>\n",
       "    </tr>\n",
       "    <tr>\n",
       "      <th>75%</th>\n",
       "      <td>1.547458e+08</td>\n",
       "      <td>87.48</td>\n",
       "    </tr>\n",
       "    <tr>\n",
       "      <th>max</th>\n",
       "      <td>1.855410e+09</td>\n",
       "      <td>230.28</td>\n",
       "    </tr>\n",
       "  </tbody>\n",
       "</table>\n",
       "</div>"
      ],
      "text/plain": [
       "             Volume       AC\n",
       "count  4.779000e+03  4779.00\n",
       "mean   1.182295e+08    47.69\n",
       "std    9.954219e+07    56.83\n",
       "min    9.835000e+06     0.62\n",
       "25%    5.056905e+07     3.35\n",
       "50%    9.088870e+07    18.33\n",
       "75%    1.547458e+08    87.48\n",
       "max    1.855410e+09   230.28"
      ]
     },
     "execution_count": 57,
     "metadata": {},
     "output_type": "execute_result"
    }
   ],
   "source": [
    "aapl.describe().round(2)"
   ]
  },
  {
   "cell_type": "code",
   "execution_count": 58,
   "metadata": {},
   "outputs": [
    {
     "data": {
      "image/png": "[encoded data removed]",
      "text/plain": [
       "<Figure size 500x500 with 6 Axes>"
      ]
     },
     "metadata": {},
     "output_type": "display_data"
    }
   ],
   "source": [
    "sns.pairplot(aapl);"
   ]
  },
  {
   "cell_type": "markdown",
   "metadata": {},
   "source": [
    "We can note a few things from the EDA above:\n",
    "- No NULLs\n",
    "- Inverse exponential relationship between AC and Volume?\n",
    "- Right skew in price\n",
    "\n",
    "There's an important consideration also: **stock splits!**\n",
    "\n",
    "Apple's stock has split four times since the company went public. The stock split on a 7-for-1 basis on June 9, 2014 and split on a 2-for-1 basis on February 28, 2005, June 21, 2000, and June 16, 1987.\n",
    "\n",
    "Let's filter to the 2014 and 2005 weeks and see what happened:"
   ]
  },
  {
   "cell_type": "code",
   "execution_count": 59,
   "metadata": {},
   "outputs": [
    {
     "data": {
      "text/html": [
       "<div>\n",
       "<style scoped>\n",
       "    .dataframe tbody tr th:only-of-type {\n",
       "        vertical-align: middle;\n",
       "    }\n",
       "\n",
       "    .dataframe tbody tr th {\n",
       "        vertical-align: top;\n",
       "    }\n",
       "\n",
       "    .dataframe thead th {\n",
       "        text-align: right;\n",
       "    }\n",
       "</style>\n",
       "<table border=\"1\" class=\"dataframe\">\n",
       "  <thead>\n",
       "    <tr style=\"text-align: right;\">\n",
       "      <th></th>\n",
       "      <th>Date</th>\n",
       "      <th>Open</th>\n",
       "      <th>High</th>\n",
       "      <th>Low</th>\n",
       "      <th>Close</th>\n",
       "      <th>Adj Close</th>\n",
       "      <th>Volume</th>\n",
       "      <th>AC</th>\n",
       "    </tr>\n",
       "    <tr>\n",
       "      <th>Date</th>\n",
       "      <th></th>\n",
       "      <th></th>\n",
       "      <th></th>\n",
       "      <th></th>\n",
       "      <th></th>\n",
       "      <th></th>\n",
       "      <th></th>\n",
       "      <th></th>\n",
       "    </tr>\n",
       "  </thead>\n",
       "  <tbody>\n",
       "    <tr>\n",
       "      <th>2005-02-24</th>\n",
       "      <td>2005-02-24</td>\n",
       "      <td>6.320000</td>\n",
       "      <td>6.379286</td>\n",
       "      <td>6.266428</td>\n",
       "      <td>6.352143</td>\n",
       "      <td>4.235628</td>\n",
       "      <td>379757000</td>\n",
       "      <td>4.235628</td>\n",
       "    </tr>\n",
       "    <tr>\n",
       "      <th>2005-02-25</th>\n",
       "      <td>2005-02-25</td>\n",
       "      <td>6.401429</td>\n",
       "      <td>6.422143</td>\n",
       "      <td>6.299286</td>\n",
       "      <td>6.356429</td>\n",
       "      <td>4.238486</td>\n",
       "      <td>228877600</td>\n",
       "      <td>4.238486</td>\n",
       "    </tr>\n",
       "    <tr>\n",
       "      <th>2005-02-28</th>\n",
       "      <td>2005-02-28</td>\n",
       "      <td>6.382857</td>\n",
       "      <td>6.448571</td>\n",
       "      <td>6.280000</td>\n",
       "      <td>6.408571</td>\n",
       "      <td>4.273254</td>\n",
       "      <td>162902600</td>\n",
       "      <td>4.273254</td>\n",
       "    </tr>\n",
       "    <tr>\n",
       "      <th>2005-03-01</th>\n",
       "      <td>2005-03-01</td>\n",
       "      <td>6.427143</td>\n",
       "      <td>6.444286</td>\n",
       "      <td>6.308571</td>\n",
       "      <td>6.357143</td>\n",
       "      <td>4.238961</td>\n",
       "      <td>117047000</td>\n",
       "      <td>4.238961</td>\n",
       "    </tr>\n",
       "    <tr>\n",
       "      <th>2005-03-02</th>\n",
       "      <td>2005-03-02</td>\n",
       "      <td>6.321429</td>\n",
       "      <td>6.412857</td>\n",
       "      <td>6.297143</td>\n",
       "      <td>6.302857</td>\n",
       "      <td>4.202764</td>\n",
       "      <td>114540300</td>\n",
       "      <td>4.202764</td>\n",
       "    </tr>\n",
       "  </tbody>\n",
       "</table>\n",
       "</div>"
      ],
      "text/plain": [
       "                  Date      Open      High       Low     Close  Adj Close  \\\n",
       "Date                                                                        \n",
       "2005-02-24  2005-02-24  6.320000  6.379286  6.266428  6.352143   4.235628   \n",
       "2005-02-25  2005-02-25  6.401429  6.422143  6.299286  6.356429   4.238486   \n",
       "2005-02-28  2005-02-28  6.382857  6.448571  6.280000  6.408571   4.273254   \n",
       "2005-03-01  2005-03-01  6.427143  6.444286  6.308571  6.357143   4.238961   \n",
       "2005-03-02  2005-03-02  6.321429  6.412857  6.297143  6.302857   4.202764   \n",
       "\n",
       "               Volume        AC  \n",
       "Date                             \n",
       "2005-02-24  379757000  4.235628  \n",
       "2005-02-25  228877600  4.238486  \n",
       "2005-02-28  162902600  4.273254  \n",
       "2005-03-01  117047000  4.238961  \n",
       "2005-03-02  114540300  4.202764  "
      ]
     },
     "execution_count": 59,
     "metadata": {},
     "output_type": "execute_result"
    }
   ],
   "source": [
    "# first 2005\n",
    "aapl_raw['2005-02-24':'2005-03-02']\n",
    "\n",
    "# looks like Adj Close accounted for the split automatically"
   ]
  },
  {
   "cell_type": "code",
   "execution_count": 60,
   "metadata": {},
   "outputs": [
    {
     "data": {
      "text/html": [
       "<div>\n",
       "<style scoped>\n",
       "    .dataframe tbody tr th:only-of-type {\n",
       "        vertical-align: middle;\n",
       "    }\n",
       "\n",
       "    .dataframe tbody tr th {\n",
       "        vertical-align: top;\n",
       "    }\n",
       "\n",
       "    .dataframe thead th {\n",
       "        text-align: right;\n",
       "    }\n",
       "</style>\n",
       "<table border=\"1\" class=\"dataframe\">\n",
       "  <thead>\n",
       "    <tr style=\"text-align: right;\">\n",
       "      <th></th>\n",
       "      <th>Date</th>\n",
       "      <th>Open</th>\n",
       "      <th>High</th>\n",
       "      <th>Low</th>\n",
       "      <th>Close</th>\n",
       "      <th>Adj Close</th>\n",
       "      <th>Volume</th>\n",
       "      <th>AC</th>\n",
       "    </tr>\n",
       "    <tr>\n",
       "      <th>Date</th>\n",
       "      <th></th>\n",
       "      <th></th>\n",
       "      <th></th>\n",
       "      <th></th>\n",
       "      <th></th>\n",
       "      <th></th>\n",
       "      <th></th>\n",
       "      <th></th>\n",
       "    </tr>\n",
       "  </thead>\n",
       "  <tbody>\n",
       "    <tr>\n",
       "      <th>2014-06-06</th>\n",
       "      <td>2014-06-06</td>\n",
       "      <td>92.842857</td>\n",
       "      <td>93.037140</td>\n",
       "      <td>92.067146</td>\n",
       "      <td>92.224289</td>\n",
       "      <td>84.851349</td>\n",
       "      <td>87484600</td>\n",
       "      <td>84.851349</td>\n",
       "    </tr>\n",
       "    <tr>\n",
       "      <th>2014-06-09</th>\n",
       "      <td>2014-06-09</td>\n",
       "      <td>92.699997</td>\n",
       "      <td>93.879997</td>\n",
       "      <td>91.750000</td>\n",
       "      <td>93.699997</td>\n",
       "      <td>86.209076</td>\n",
       "      <td>75415000</td>\n",
       "      <td>86.209076</td>\n",
       "    </tr>\n",
       "    <tr>\n",
       "      <th>2014-06-10</th>\n",
       "      <td>2014-06-10</td>\n",
       "      <td>94.730003</td>\n",
       "      <td>95.050003</td>\n",
       "      <td>93.570000</td>\n",
       "      <td>94.250000</td>\n",
       "      <td>86.715096</td>\n",
       "      <td>62777000</td>\n",
       "      <td>86.715096</td>\n",
       "    </tr>\n",
       "    <tr>\n",
       "      <th>2014-06-11</th>\n",
       "      <td>2014-06-11</td>\n",
       "      <td>94.129997</td>\n",
       "      <td>94.760002</td>\n",
       "      <td>93.470001</td>\n",
       "      <td>93.860001</td>\n",
       "      <td>86.356293</td>\n",
       "      <td>45681000</td>\n",
       "      <td>86.356293</td>\n",
       "    </tr>\n",
       "  </tbody>\n",
       "</table>\n",
       "</div>"
      ],
      "text/plain": [
       "                  Date       Open       High        Low      Close  Adj Close  \\\n",
       "Date                                                                            \n",
       "2014-06-06  2014-06-06  92.842857  93.037140  92.067146  92.224289  84.851349   \n",
       "2014-06-09  2014-06-09  92.699997  93.879997  91.750000  93.699997  86.209076   \n",
       "2014-06-10  2014-06-10  94.730003  95.050003  93.570000  94.250000  86.715096   \n",
       "2014-06-11  2014-06-11  94.129997  94.760002  93.470001  93.860001  86.356293   \n",
       "\n",
       "              Volume         AC  \n",
       "Date                             \n",
       "2014-06-06  87484600  84.851349  \n",
       "2014-06-09  75415000  86.209076  \n",
       "2014-06-10  62777000  86.715096  \n",
       "2014-06-11  45681000  86.356293  "
      ]
     },
     "execution_count": 60,
     "metadata": {},
     "output_type": "execute_result"
    }
   ],
   "source": [
    "# next 2014\n",
    "aapl_raw['2014-06-06':'2014-06-11']\n",
    "\n",
    "# good again, but essential to check!"
   ]
  },
  {
   "cell_type": "code",
   "execution_count": 61,
   "metadata": {
    "run_control": {
     "marked": false
    }
   },
   "outputs": [],
   "source": [
    "# calculate MACD (a key trading metric, and helpful exogenous variable)\n",
    "aapl_raw['MACD'] = (aapl_raw.AC.ewm(span=12).mean() - aapl_raw.AC.ewm(span=26).mean())"
   ]
  },
  {
   "cell_type": "code",
   "execution_count": 62,
   "metadata": {
    "run_control": {
     "marked": false
    }
   },
   "outputs": [
    {
     "data": {
      "text/html": [
       "<div>\n",
       "<style scoped>\n",
       "    .dataframe tbody tr th:only-of-type {\n",
       "        vertical-align: middle;\n",
       "    }\n",
       "\n",
       "    .dataframe tbody tr th {\n",
       "        vertical-align: top;\n",
       "    }\n",
       "\n",
       "    .dataframe thead th {\n",
       "        text-align: right;\n",
       "    }\n",
       "</style>\n",
       "<table border=\"1\" class=\"dataframe\">\n",
       "  <thead>\n",
       "    <tr style=\"text-align: right;\">\n",
       "      <th></th>\n",
       "      <th>Date</th>\n",
       "      <th>Open</th>\n",
       "      <th>High</th>\n",
       "      <th>Low</th>\n",
       "      <th>Close</th>\n",
       "      <th>Adj Close</th>\n",
       "      <th>Volume</th>\n",
       "      <th>AC</th>\n",
       "      <th>MACD</th>\n",
       "    </tr>\n",
       "    <tr>\n",
       "      <th>Date</th>\n",
       "      <th></th>\n",
       "      <th></th>\n",
       "      <th></th>\n",
       "      <th></th>\n",
       "      <th></th>\n",
       "      <th></th>\n",
       "      <th></th>\n",
       "      <th></th>\n",
       "      <th></th>\n",
       "    </tr>\n",
       "  </thead>\n",
       "  <tbody>\n",
       "    <tr>\n",
       "      <th>2000-04-18</th>\n",
       "      <td>2000-04-18</td>\n",
       "      <td>4.410714</td>\n",
       "      <td>4.531250</td>\n",
       "      <td>4.263393</td>\n",
       "      <td>4.531250</td>\n",
       "      <td>3.021451</td>\n",
       "      <td>97731200</td>\n",
       "      <td>3.021451</td>\n",
       "      <td>0.000000</td>\n",
       "    </tr>\n",
       "    <tr>\n",
       "      <th>2000-04-19</th>\n",
       "      <td>2000-04-19</td>\n",
       "      <td>4.506696</td>\n",
       "      <td>4.651786</td>\n",
       "      <td>4.276786</td>\n",
       "      <td>4.325893</td>\n",
       "      <td>2.884518</td>\n",
       "      <td>130037600</td>\n",
       "      <td>2.884518</td>\n",
       "      <td>-0.003072</td>\n",
       "    </tr>\n",
       "    <tr>\n",
       "      <th>2000-04-20</th>\n",
       "      <td>2000-04-20</td>\n",
       "      <td>4.417411</td>\n",
       "      <td>4.455357</td>\n",
       "      <td>4.180804</td>\n",
       "      <td>4.245536</td>\n",
       "      <td>2.830937</td>\n",
       "      <td>180530000</td>\n",
       "      <td>2.830937</td>\n",
       "      <td>-0.005576</td>\n",
       "    </tr>\n",
       "    <tr>\n",
       "      <th>2000-04-24</th>\n",
       "      <td>2000-04-24</td>\n",
       "      <td>4.107143</td>\n",
       "      <td>4.303571</td>\n",
       "      <td>4.098214</td>\n",
       "      <td>4.303571</td>\n",
       "      <td>2.869634</td>\n",
       "      <td>110905200</td>\n",
       "      <td>2.869634</td>\n",
       "      <td>-0.005181</td>\n",
       "    </tr>\n",
       "    <tr>\n",
       "      <th>2000-04-25</th>\n",
       "      <td>2000-04-25</td>\n",
       "      <td>4.361607</td>\n",
       "      <td>4.598214</td>\n",
       "      <td>4.359375</td>\n",
       "      <td>4.582589</td>\n",
       "      <td>3.055684</td>\n",
       "      <td>97910400</td>\n",
       "      <td>3.055684</td>\n",
       "      <td>0.002546</td>\n",
       "    </tr>\n",
       "  </tbody>\n",
       "</table>\n",
       "</div>"
      ],
      "text/plain": [
       "                  Date      Open      High       Low     Close  Adj Close  \\\n",
       "Date                                                                        \n",
       "2000-04-18  2000-04-18  4.410714  4.531250  4.263393  4.531250   3.021451   \n",
       "2000-04-19  2000-04-19  4.506696  4.651786  4.276786  4.325893   2.884518   \n",
       "2000-04-20  2000-04-20  4.417411  4.455357  4.180804  4.245536   2.830937   \n",
       "2000-04-24  2000-04-24  4.107143  4.303571  4.098214  4.303571   2.869634   \n",
       "2000-04-25  2000-04-25  4.361607  4.598214  4.359375  4.582589   3.055684   \n",
       "\n",
       "               Volume        AC      MACD  \n",
       "Date                                       \n",
       "2000-04-18   97731200  3.021451  0.000000  \n",
       "2000-04-19  130037600  2.884518 -0.003072  \n",
       "2000-04-20  180530000  2.830937 -0.005576  \n",
       "2000-04-24  110905200  2.869634 -0.005181  \n",
       "2000-04-25   97910400  3.055684  0.002546  "
      ]
     },
     "execution_count": 62,
     "metadata": {},
     "output_type": "execute_result"
    }
   ],
   "source": [
    "aapl_raw.head()"
   ]
  },
  {
   "cell_type": "markdown",
   "metadata": {
    "run_control": {
     "marked": false
    }
   },
   "source": [
    "## Statistics"
   ]
  },
  {
   "cell_type": "code",
   "execution_count": 63,
   "metadata": {},
   "outputs": [
    {
     "data": {
      "image/png": "[encoded data removed]",
      "text/plain": [
       "<Figure size 1800x700 with 1 Axes>"
      ]
     },
     "metadata": {},
     "output_type": "display_data"
    }
   ],
   "source": [
    "# plot price over time\n",
    "aapl_raw.AC.plot();"
   ]
  },
  {
   "cell_type": "code",
   "execution_count": 64,
   "metadata": {
    "run_control": {
     "marked": false
    },
    "scrolled": false
   },
   "outputs": [
    {
     "name": "stdout",
     "output_type": "stream",
     "text": [
      "Augmented Dickey Fuller:\n",
      "Test Statistic = 1.0742834629100277\n",
      "p-value = 0.9949910545329405\n",
      "Critical Values = {'1%': -3.431728601011308, '5%': -2.862149185397661, '10%': -2.567094271358372}\n"
     ]
    }
   ],
   "source": [
    "# Optional: run ADF to determine unit root\n",
    "import statsmodels.tsa.stattools as ts\n",
    "cadf = ts.adfuller(aapl_raw.AC)\n",
    "\n",
    "print('Augmented Dickey Fuller:')\n",
    "print('Test Statistic =',cadf[0])\n",
    "print('p-value =',cadf[1])\n",
    "print('Critical Values =',cadf[4])"
   ]
  },
  {
   "cell_type": "markdown",
   "metadata": {
    "run_control": {
     "marked": false
    }
   },
   "source": [
    "# FB Prophet"
   ]
  },
  {
   "cell_type": "code",
   "execution_count": 65,
   "metadata": {
    "run_control": {
     "marked": false
    }
   },
   "outputs": [],
   "source": [
    "from fbprophet import Prophet\n",
    "\n",
    "# pull only close price and set up dataframe for prophet\n",
    "aapl_fb = aapl\n",
    "aapl_fb['ds'] = aapl_fb.index\n",
    "aapl_fb = aapl_fb.rename(columns={'AC': 'y'})"
   ]
  },
  {
   "cell_type": "code",
   "execution_count": 66,
   "metadata": {},
   "outputs": [
    {
     "data": {
      "text/html": [
       "<div>\n",
       "<style scoped>\n",
       "    .dataframe tbody tr th:only-of-type {\n",
       "        vertical-align: middle;\n",
       "    }\n",
       "\n",
       "    .dataframe tbody tr th {\n",
       "        vertical-align: top;\n",
       "    }\n",
       "\n",
       "    .dataframe thead th {\n",
       "        text-align: right;\n",
       "    }\n",
       "</style>\n",
       "<table border=\"1\" class=\"dataframe\">\n",
       "  <thead>\n",
       "    <tr style=\"text-align: right;\">\n",
       "      <th></th>\n",
       "      <th>Volume</th>\n",
       "      <th>y</th>\n",
       "      <th>ds</th>\n",
       "    </tr>\n",
       "    <tr>\n",
       "      <th>Date</th>\n",
       "      <th></th>\n",
       "      <th></th>\n",
       "      <th></th>\n",
       "    </tr>\n",
       "  </thead>\n",
       "  <tbody>\n",
       "    <tr>\n",
       "      <th>2000-04-18</th>\n",
       "      <td>97731200</td>\n",
       "      <td>3.021451</td>\n",
       "      <td>2000-04-18</td>\n",
       "    </tr>\n",
       "    <tr>\n",
       "      <th>2000-04-19</th>\n",
       "      <td>130037600</td>\n",
       "      <td>2.884518</td>\n",
       "      <td>2000-04-19</td>\n",
       "    </tr>\n",
       "    <tr>\n",
       "      <th>2000-04-20</th>\n",
       "      <td>180530000</td>\n",
       "      <td>2.830937</td>\n",
       "      <td>2000-04-20</td>\n",
       "    </tr>\n",
       "    <tr>\n",
       "      <th>2000-04-24</th>\n",
       "      <td>110905200</td>\n",
       "      <td>2.869634</td>\n",
       "      <td>2000-04-24</td>\n",
       "    </tr>\n",
       "    <tr>\n",
       "      <th>2000-04-25</th>\n",
       "      <td>97910400</td>\n",
       "      <td>3.055684</td>\n",
       "      <td>2000-04-25</td>\n",
       "    </tr>\n",
       "  </tbody>\n",
       "</table>\n",
       "</div>"
      ],
      "text/plain": [
       "               Volume         y         ds\n",
       "Date                                      \n",
       "2000-04-18   97731200  3.021451 2000-04-18\n",
       "2000-04-19  130037600  2.884518 2000-04-19\n",
       "2000-04-20  180530000  2.830937 2000-04-20\n",
       "2000-04-24  110905200  2.869634 2000-04-24\n",
       "2000-04-25   97910400  3.055684 2000-04-25"
      ]
     },
     "execution_count": 66,
     "metadata": {},
     "output_type": "execute_result"
    }
   ],
   "source": [
    "aapl_fb.head()"
   ]
  },
  {
   "cell_type": "code",
   "execution_count": 67,
   "metadata": {
    "run_control": {
     "marked": false
    }
   },
   "outputs": [
    {
     "name": "stderr",
     "output_type": "stream",
     "text": [
      "/Users/jb/anaconda3/lib/python3.7/site-packages/pystan/misc.py:399: FutureWarning: Conversion of the second argument of issubdtype from `float` to `np.floating` is deprecated. In future, it will be treated as `np.float64 == np.dtype(float).type`.\n",
      "  elif np.issubdtype(np.asarray(v).dtype, float):\n"
     ]
    },
    {
     "data": {
      "text/html": [
       "<div>\n",
       "<style scoped>\n",
       "    .dataframe tbody tr th:only-of-type {\n",
       "        vertical-align: middle;\n",
       "    }\n",
       "\n",
       "    .dataframe tbody tr th {\n",
       "        vertical-align: top;\n",
       "    }\n",
       "\n",
       "    .dataframe thead th {\n",
       "        text-align: right;\n",
       "    }\n",
       "</style>\n",
       "<table border=\"1\" class=\"dataframe\">\n",
       "  <thead>\n",
       "    <tr style=\"text-align: right;\">\n",
       "      <th></th>\n",
       "      <th>ds</th>\n",
       "    </tr>\n",
       "  </thead>\n",
       "  <tbody>\n",
       "    <tr>\n",
       "      <th>4804</th>\n",
       "      <td>2019-05-01</td>\n",
       "    </tr>\n",
       "    <tr>\n",
       "      <th>4805</th>\n",
       "      <td>2019-05-02</td>\n",
       "    </tr>\n",
       "    <tr>\n",
       "      <th>4806</th>\n",
       "      <td>2019-05-03</td>\n",
       "    </tr>\n",
       "    <tr>\n",
       "      <th>4807</th>\n",
       "      <td>2019-05-04</td>\n",
       "    </tr>\n",
       "    <tr>\n",
       "      <th>4808</th>\n",
       "      <td>2019-05-05</td>\n",
       "    </tr>\n",
       "  </tbody>\n",
       "</table>\n",
       "</div>"
      ],
      "text/plain": [
       "             ds\n",
       "4804 2019-05-01\n",
       "4805 2019-05-02\n",
       "4806 2019-05-03\n",
       "4807 2019-05-04\n",
       "4808 2019-05-05"
      ]
     },
     "execution_count": 67,
     "metadata": {},
     "output_type": "execute_result"
    }
   ],
   "source": [
    "# fit model without final thirty periods\n",
    "fbm = Prophet(weekly_seasonality='auto', daily_seasonality=False, seasonality_mode='multiplicative')\n",
    "\n",
    "fbm.fit(aapl_fb.iloc[:-30,:]);\n",
    "\n",
    "# create future dataset\n",
    "future = fbm.make_future_dataframe(periods=60, freq='D')\n",
    "future.tail()"
   ]
  },
  {
   "cell_type": "code",
   "execution_count": 68,
   "metadata": {},
   "outputs": [
    {
     "data": {
      "text/plain": [
       "Volume               24760900\n",
       "y                       172.5\n",
       "ds        2019-03-07 00:00:00\n",
       "Name: 2019-03-07 00:00:00, dtype: object"
      ]
     },
     "execution_count": 68,
     "metadata": {},
     "output_type": "execute_result"
    }
   ],
   "source": [
    "# check endpoint for train\n",
    "aapl_fb.iloc[-30,:]"
   ]
  },
  {
   "cell_type": "code",
   "execution_count": 69,
   "metadata": {
    "run_control": {
     "marked": false
    }
   },
   "outputs": [
    {
     "data": {
      "text/html": [
       "<div>\n",
       "<style scoped>\n",
       "    .dataframe tbody tr th:only-of-type {\n",
       "        vertical-align: middle;\n",
       "    }\n",
       "\n",
       "    .dataframe tbody tr th {\n",
       "        vertical-align: top;\n",
       "    }\n",
       "\n",
       "    .dataframe thead th {\n",
       "        text-align: right;\n",
       "    }\n",
       "</style>\n",
       "<table border=\"1\" class=\"dataframe\">\n",
       "  <thead>\n",
       "    <tr style=\"text-align: right;\">\n",
       "      <th></th>\n",
       "      <th>ds</th>\n",
       "      <th>yhat</th>\n",
       "      <th>yhat_lower</th>\n",
       "      <th>yhat_upper</th>\n",
       "    </tr>\n",
       "  </thead>\n",
       "  <tbody>\n",
       "    <tr>\n",
       "      <th>4804</th>\n",
       "      <td>2019-05-01</td>\n",
       "      <td>197.060943</td>\n",
       "      <td>186.563658</td>\n",
       "      <td>208.551360</td>\n",
       "    </tr>\n",
       "    <tr>\n",
       "      <th>4805</th>\n",
       "      <td>2019-05-02</td>\n",
       "      <td>197.280958</td>\n",
       "      <td>185.347724</td>\n",
       "      <td>207.490995</td>\n",
       "    </tr>\n",
       "    <tr>\n",
       "      <th>4806</th>\n",
       "      <td>2019-05-03</td>\n",
       "      <td>197.374295</td>\n",
       "      <td>185.970531</td>\n",
       "      <td>207.995628</td>\n",
       "    </tr>\n",
       "    <tr>\n",
       "      <th>4807</th>\n",
       "      <td>2019-05-04</td>\n",
       "      <td>-312.980030</td>\n",
       "      <td>-323.957150</td>\n",
       "      <td>-302.436187</td>\n",
       "    </tr>\n",
       "    <tr>\n",
       "      <th>4808</th>\n",
       "      <td>2019-05-05</td>\n",
       "      <td>-312.779904</td>\n",
       "      <td>-323.312151</td>\n",
       "      <td>-301.438060</td>\n",
       "    </tr>\n",
       "  </tbody>\n",
       "</table>\n",
       "</div>"
      ],
      "text/plain": [
       "             ds        yhat  yhat_lower  yhat_upper\n",
       "4804 2019-05-01  197.060943  186.563658  208.551360\n",
       "4805 2019-05-02  197.280958  185.347724  207.490995\n",
       "4806 2019-05-03  197.374295  185.970531  207.995628\n",
       "4807 2019-05-04 -312.980030 -323.957150 -302.436187\n",
       "4808 2019-05-05 -312.779904 -323.312151 -301.438060"
      ]
     },
     "execution_count": 69,
     "metadata": {},
     "output_type": "execute_result"
    }
   ],
   "source": [
    "forecast = fbm.predict(future)\n",
    "forecast[['ds', 'yhat', 'yhat_lower', 'yhat_upper']].tail()"
   ]
  },
  {
   "cell_type": "code",
   "execution_count": 71,
   "metadata": {
    "scrolled": false
   },
   "outputs": [
    {
     "data": {
      "image/png": "[encoded data removed]",
      "text/plain": [
       "<Figure size 900x900 with 3 Axes>"
      ]
     },
     "metadata": {},
     "output_type": "display_data"
    }
   ],
   "source": [
    "fbm.plot_components(forecast);"
   ]
  },
  {
   "cell_type": "code",
   "execution_count": 72,
   "metadata": {
    "run_control": {
     "marked": false
    }
   },
   "outputs": [],
   "source": [
    "# Create mask that asks if the differential on the trend is upwards\n",
    "mask = forecast['trend'].diff().iloc[-10:] > 0\n",
    "\n",
    "# If they're all true \n",
    "if mask.all() == True:\n",
    "    # Prophet thinks we're on the way down\n",
    "    prophet_signal = 1\n",
    "else:\n",
    "    # Prophet thinks we're on the way up\n",
    "    prophet_signal = 0"
   ]
  },
  {
   "cell_type": "code",
   "execution_count": 73,
   "metadata": {},
   "outputs": [
    {
     "data": {
      "text/plain": [
       "4799    True\n",
       "4800    True\n",
       "4801    True\n",
       "4802    True\n",
       "4803    True\n",
       "4804    True\n",
       "4805    True\n",
       "4806    True\n",
       "4807    True\n",
       "4808    True\n",
       "Name: trend, dtype: bool"
      ]
     },
     "execution_count": 73,
     "metadata": {},
     "output_type": "execute_result"
    }
   ],
   "source": [
    "mask"
   ]
  },
  {
   "cell_type": "markdown",
   "metadata": {
    "hidden": true,
    "run_control": {
     "marked": false
    }
   },
   "source": [
    ">How would we do if we dropped google trends data?"
   ]
  },
  {
   "cell_type": "code",
   "execution_count": null,
   "metadata": {
    "hidden": true,
    "run_control": {
     "marked": false
    }
   },
   "outputs": [],
   "source": [
    "model_no_trends = tc.regression.create(train_data, target='final_close1',\n",
    "                                        features = ['Open',\n",
    "                                                    'High',\n",
    "                                                    'Low',\n",
    "                                                    'Close'], verbose=False)"
   ]
  },
  {
   "cell_type": "code",
   "execution_count": null,
   "metadata": {
    "hidden": true,
    "run_control": {
     "marked": false
    }
   },
   "outputs": [],
   "source": [
    "predictions = model_no_trends.predict(test_data)\n",
    "model_no_trends.evaluate(test_data)\n",
    "\n",
    "#small bump in max error and rmse across many runs"
   ]
  },
  {
   "cell_type": "markdown",
   "metadata": {
    "hidden": true,
    "run_control": {
     "marked": false
    }
   },
   "source": [
    "# WaveNet"
   ]
  },
  {
   "cell_type": "code",
   "execution_count": null,
   "metadata": {
    "hidden": true,
    "run_control": {
     "marked": false
    }
   },
   "outputs": [],
   "source": []
  },
  {
   "cell_type": "code",
   "execution_count": null,
   "metadata": {
    "hidden": true,
    "run_control": {
     "marked": false
    }
   },
   "outputs": [],
   "source": []
  },
  {
   "cell_type": "code",
   "execution_count": null,
   "metadata": {
    "hidden": true,
    "run_control": {
     "marked": false
    }
   },
   "outputs": [],
   "source": []
  },
  {
   "cell_type": "markdown",
   "metadata": {
    "hidden": true,
    "run_control": {
     "marked": false
    }
   },
   "source": [
    "### Build and Validate a Trading Algorithm"
   ]
  },
  {
   "cell_type": "markdown",
   "metadata": {
    "hidden": true,
    "run_control": {
     "marked": false
    }
   },
   "source": [
    "We can take a number of approaches, but the simplest is to buy if next week's prediction is higher and sell if it's lower.\n",
    "\n",
    "Assumptions:\n",
    " - we start enough funds for one stock\n",
    " - no put options\n",
    " - fixed transaction cost regardless of volume bought or sold\n",
    " - only make money buying low and selling high\n",
    " - opportunity cost in the bull market is buying and sitting till end of timeframe"
   ]
  },
  {
   "cell_type": "code",
   "execution_count": null,
   "metadata": {
    "hidden": true,
    "run_control": {
     "marked": false
    }
   },
   "outputs": [],
   "source": [
    "# predict across span of time\n",
    "pred = model1.predict(data)\n",
    "pred[:5]"
   ]
  },
  {
   "cell_type": "code",
   "execution_count": null,
   "metadata": {
    "hidden": true,
    "run_control": {
     "marked": false
    }
   },
   "outputs": [],
   "source": [
    "data"
   ]
  },
  {
   "cell_type": "code",
   "execution_count": null,
   "metadata": {
    "hidden": true,
    "run_control": {
     "marked": false
    }
   },
   "outputs": [],
   "source": [
    "# pull true values\n",
    "true = data['final_close1']\n",
    "true[:5]"
   ]
  },
  {
   "cell_type": "code",
   "execution_count": null,
   "metadata": {
    "hidden": true,
    "run_control": {
     "marked": false
    },
    "scrolled": false
   },
   "outputs": [],
   "source": [
    "# if predicted is higher than current close, buy\n",
    "#def profits(data, pred, true):\n",
    "tally = []\n",
    "transactions = 0\n",
    "invested = False\n",
    "cash = 0\n",
    "\n",
    "for i in range(len(true)):\n",
    "    if pred[i] > data['Close'][i] and invested == False: # buy and flag as invested\n",
    "        invested = True\n",
    "        transactions +=1\n",
    "        buy_price = data['Close'][i]\n",
    "        print('buy: $' + str(buy_price))\n",
    "    elif pred[i] > data['Close'][i] and invested == True:\n",
    "        continue\n",
    "    elif pred[i] < data['Close'][i] and invested == True:\n",
    "        tally.append(true[i] - buy_price)\n",
    "        invested = False\n",
    "        transactions +=1\n",
    "        print(true[i] - buy_price)\n",
    "    else:\n",
    "        print('wait')"
   ]
  },
  {
   "cell_type": "raw",
   "metadata": {
    "hidden": true,
    "run_control": {
     "marked": false
    }
   },
   "source": [
    "profits(data, pred, true)"
   ]
  },
  {
   "cell_type": "code",
   "execution_count": null,
   "metadata": {
    "hidden": true,
    "run_control": {
     "marked": false
    }
   },
   "outputs": [],
   "source": [
    "len(tally)"
   ]
  },
  {
   "cell_type": "code",
   "execution_count": null,
   "metadata": {
    "hidden": true,
    "run_control": {
     "marked": false
    }
   },
   "outputs": [],
   "source": [
    "len(true)"
   ]
  },
  {
   "cell_type": "code",
   "execution_count": null,
   "metadata": {
    "hidden": true,
    "run_control": {
     "marked": false
    }
   },
   "outputs": [],
   "source": [
    "transactions"
   ]
  },
  {
   "cell_type": "code",
   "execution_count": null,
   "metadata": {
    "hidden": true,
    "run_control": {
     "marked": false
    }
   },
   "outputs": [],
   "source": [
    "sum(tally)\n",
    "\n",
    "# we made close to $100"
   ]
  },
  {
   "cell_type": "code",
   "execution_count": null,
   "metadata": {
    "hidden": true,
    "run_control": {
     "marked": false
    }
   },
   "outputs": [],
   "source": [
    "plt.hist(tally);"
   ]
  },
  {
   "cell_type": "code",
   "execution_count": null,
   "metadata": {
    "hidden": true,
    "run_control": {
     "marked": false
    }
   },
   "outputs": [],
   "source": [
    "# compare to buy and hold\n",
    "data['Close'][-1] - data['Close'][0]"
   ]
  },
  {
   "cell_type": "markdown",
   "metadata": {
    "hidden": true,
    "run_control": {
     "marked": false
    }
   },
   "source": [
    "Our trading strategy nets us **$99$ - $86$ =**\n",
    "\n",
    "**$13 /stock**\n",
    "\n",
    "We haven't taken the 62 transactions into account, but at a fixed price, the variable profit should compensate. In a bull market, like AAPL and other stocks experienced during 2014-2018, it's easy to make money using most any strategy. The real test is during periods of variability or correction. We can pull relevant time periods, but should ALWAYS remember to retrain our model when market conditions experience fundamental shifts. "
   ]
  },
  {
   "cell_type": "code",
   "execution_count": null,
   "metadata": {
    "hidden": true,
    "run_control": {
     "marked": false
    }
   },
   "outputs": [],
   "source": []
  }
 ],
 "metadata": {
  "anaconda-cloud": {},
  "kernelspec": {
   "display_name": "Python 3",
   "language": "python",
   "name": "python3"
  },
  "language_info": {
   "codemirror_mode": {
    "name": "ipython",
    "version": 3
   },
   "file_extension": ".py",
   "mimetype": "text/x-python",
   "name": "python",
   "nbconvert_exporter": "python",
   "pygments_lexer": "ipython3",
   "version": "3.7.1"
  },
  "toc": {
   "colors": {
    "hover_highlight": "#DAA520",
    "navigate_num": "#000000",
    "navigate_text": "#333333",
    "running_highlight": "#FF0000",
    "selected_highlight": "#FFD700",
    "sidebar_border": "#EEEEEE",
    "wrapper_background": "#FFFFFF"
   },
   "moveMenuLeft": false,
   "nav_menu": {
    "height": "12px",
    "width": "252px"
   },
   "navigate_menu": true,
   "number_sections": false,
   "sideBar": false,
   "threshold": "3",
   "toc_cell": false,
   "toc_section_display": "block",
   "toc_window_display": false,
   "widenNotebook": false
  }
 },
 "nbformat": 4,
 "nbformat_minor": 2
}
